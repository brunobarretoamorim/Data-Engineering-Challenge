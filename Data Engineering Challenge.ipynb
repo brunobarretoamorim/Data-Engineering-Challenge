{
 "cells": [
  {
   "cell_type": "code",
   "execution_count": 1,
   "metadata": {},
   "outputs": [],
   "source": [
    "import pandas\n",
    "import json\n",
    "from statistics import mean"
   ]
  },
  {
   "cell_type": "code",
   "execution_count": 2,
   "metadata": {},
   "outputs": [],
   "source": [
    "df = pandas.read_json('data.json',lines=True)"
   ]
  },
  {
   "cell_type": "markdown",
   "metadata": {},
   "source": [
    "# Exploratory Data Analysis (EDA)"
   ]
  },
  {
   "cell_type": "code",
   "execution_count": 3,
   "metadata": {},
   "outputs": [
    {
     "data": {
      "text/plain": [
       "(9020, 13)"
      ]
     },
     "execution_count": 3,
     "metadata": {},
     "output_type": "execute_result"
    }
   ],
   "source": [
    "df.shape"
   ]
  },
  {
   "cell_type": "code",
   "execution_count": 4,
   "metadata": {},
   "outputs": [
    {
     "data": {
      "text/plain": [
       "visitNumber               int64\n",
       "visitId                   int64\n",
       "visitStartTime            int64\n",
       "date                      int64\n",
       "totals                   object\n",
       "trafficSource            object\n",
       "device                   object\n",
       "geoNetwork               object\n",
       "customDimensions         object\n",
       "hits                     object\n",
       "fullVisitorId           float64\n",
       "channelGrouping          object\n",
       "socialEngagementType     object\n",
       "dtype: object"
      ]
     },
     "execution_count": 4,
     "metadata": {},
     "output_type": "execute_result"
    }
   ],
   "source": [
    "df.dtypes"
   ]
  },
  {
   "cell_type": "code",
   "execution_count": 5,
   "metadata": {},
   "outputs": [
    {
     "data": {
      "text/html": [
       "<div>\n",
       "<style scoped>\n",
       "    .dataframe tbody tr th:only-of-type {\n",
       "        vertical-align: middle;\n",
       "    }\n",
       "\n",
       "    .dataframe tbody tr th {\n",
       "        vertical-align: top;\n",
       "    }\n",
       "\n",
       "    .dataframe thead th {\n",
       "        text-align: right;\n",
       "    }\n",
       "</style>\n",
       "<table border=\"1\" class=\"dataframe\">\n",
       "  <thead>\n",
       "    <tr style=\"text-align: right;\">\n",
       "      <th></th>\n",
       "      <th>visitNumber</th>\n",
       "      <th>visitId</th>\n",
       "      <th>visitStartTime</th>\n",
       "      <th>date</th>\n",
       "      <th>totals</th>\n",
       "      <th>trafficSource</th>\n",
       "      <th>device</th>\n",
       "      <th>geoNetwork</th>\n",
       "      <th>customDimensions</th>\n",
       "      <th>hits</th>\n",
       "      <th>fullVisitorId</th>\n",
       "      <th>channelGrouping</th>\n",
       "      <th>socialEngagementType</th>\n",
       "    </tr>\n",
       "  </thead>\n",
       "  <tbody>\n",
       "    <tr>\n",
       "      <th>0</th>\n",
       "      <td>4</td>\n",
       "      <td>1494216917</td>\n",
       "      <td>1494216917</td>\n",
       "      <td>20170507</td>\n",
       "      <td>{'visits': '1', 'hits': '37', 'pageviews': '24...</td>\n",
       "      <td>{'referralPath': '/', 'campaign': '(not set)',...</td>\n",
       "      <td>{'browser': 'Chrome', 'browserVersion': 'not a...</td>\n",
       "      <td>{'continent': 'Oceania', 'subContinent': 'Aust...</td>\n",
       "      <td>[{'index': '4', 'value': 'APAC'}]</td>\n",
       "      <td>[{'hitNumber': '1', 'time': '0', 'hour': '21',...</td>\n",
       "      <td>5.162435e+18</td>\n",
       "      <td>Referral</td>\n",
       "      <td>Not Socially Engaged</td>\n",
       "    </tr>\n",
       "    <tr>\n",
       "      <th>1</th>\n",
       "      <td>1</td>\n",
       "      <td>1498312914</td>\n",
       "      <td>1498312914</td>\n",
       "      <td>20170624</td>\n",
       "      <td>{'visits': '1', 'hits': '25', 'pageviews': '17...</td>\n",
       "      <td>{'referralPath': '/yt/about/press/', 'campaign...</td>\n",
       "      <td>{'browser': 'Chrome', 'browserVersion': 'not a...</td>\n",
       "      <td>{'continent': 'Europe', 'subContinent': 'Weste...</td>\n",
       "      <td>[{'index': '4', 'value': 'EMEA'}]</td>\n",
       "      <td>[{'hitNumber': '1', 'time': '0', 'hour': '7', ...</td>\n",
       "      <td>1.732367e+18</td>\n",
       "      <td>Social</td>\n",
       "      <td>Not Socially Engaged</td>\n",
       "    </tr>\n",
       "    <tr>\n",
       "      <th>2</th>\n",
       "      <td>1</td>\n",
       "      <td>1498347122</td>\n",
       "      <td>1498347122</td>\n",
       "      <td>20170624</td>\n",
       "      <td>{'visits': '1', 'hits': '17', 'pageviews': '12...</td>\n",
       "      <td>{'campaign': '(not set)', 'source': '(direct)'...</td>\n",
       "      <td>{'browser': 'Chrome', 'browserVersion': 'not a...</td>\n",
       "      <td>{'continent': 'Americas', 'subContinent': 'Nor...</td>\n",
       "      <td>[{'index': '4', 'value': 'North America'}]</td>\n",
       "      <td>[{'hitNumber': '1', 'time': '0', 'hour': '16',...</td>\n",
       "      <td>1.432953e+18</td>\n",
       "      <td>Organic Search</td>\n",
       "      <td>Not Socially Engaged</td>\n",
       "    </tr>\n",
       "    <tr>\n",
       "      <th>3</th>\n",
       "      <td>1</td>\n",
       "      <td>1488025415</td>\n",
       "      <td>1488025415</td>\n",
       "      <td>20170225</td>\n",
       "      <td>{'visits': '1', 'hits': '36', 'pageviews': '22...</td>\n",
       "      <td>{'campaign': '(not set)', 'source': 'google', ...</td>\n",
       "      <td>{'browser': 'Chrome', 'browserVersion': 'not a...</td>\n",
       "      <td>{'continent': 'Europe', 'subContinent': 'Weste...</td>\n",
       "      <td>[{'index': '4', 'value': 'EMEA'}]</td>\n",
       "      <td>[{'hitNumber': '1', 'time': '0', 'hour': '4', ...</td>\n",
       "      <td>9.675831e+18</td>\n",
       "      <td>Organic Search</td>\n",
       "      <td>Not Socially Engaged</td>\n",
       "    </tr>\n",
       "    <tr>\n",
       "      <th>4</th>\n",
       "      <td>1</td>\n",
       "      <td>1488051271</td>\n",
       "      <td>1488051271</td>\n",
       "      <td>20170225</td>\n",
       "      <td>{'visits': '1', 'hits': '83', 'pageviews': '65...</td>\n",
       "      <td>{'campaign': '(not set)', 'source': 'google', ...</td>\n",
       "      <td>{'browser': 'Safari', 'browserVersion': 'not a...</td>\n",
       "      <td>{'continent': 'Americas', 'subContinent': 'Nor...</td>\n",
       "      <td>[{'index': '4', 'value': 'North America'}]</td>\n",
       "      <td>[{'hitNumber': '1', 'time': '0', 'hour': '11',...</td>\n",
       "      <td>3.973743e+18</td>\n",
       "      <td>Organic Search</td>\n",
       "      <td>Not Socially Engaged</td>\n",
       "    </tr>\n",
       "  </tbody>\n",
       "</table>\n",
       "</div>"
      ],
      "text/plain": [
       "   visitNumber     visitId  visitStartTime      date  \\\n",
       "0            4  1494216917      1494216917  20170507   \n",
       "1            1  1498312914      1498312914  20170624   \n",
       "2            1  1498347122      1498347122  20170624   \n",
       "3            1  1488025415      1488025415  20170225   \n",
       "4            1  1488051271      1488051271  20170225   \n",
       "\n",
       "                                              totals  \\\n",
       "0  {'visits': '1', 'hits': '37', 'pageviews': '24...   \n",
       "1  {'visits': '1', 'hits': '25', 'pageviews': '17...   \n",
       "2  {'visits': '1', 'hits': '17', 'pageviews': '12...   \n",
       "3  {'visits': '1', 'hits': '36', 'pageviews': '22...   \n",
       "4  {'visits': '1', 'hits': '83', 'pageviews': '65...   \n",
       "\n",
       "                                       trafficSource  \\\n",
       "0  {'referralPath': '/', 'campaign': '(not set)',...   \n",
       "1  {'referralPath': '/yt/about/press/', 'campaign...   \n",
       "2  {'campaign': '(not set)', 'source': '(direct)'...   \n",
       "3  {'campaign': '(not set)', 'source': 'google', ...   \n",
       "4  {'campaign': '(not set)', 'source': 'google', ...   \n",
       "\n",
       "                                              device  \\\n",
       "0  {'browser': 'Chrome', 'browserVersion': 'not a...   \n",
       "1  {'browser': 'Chrome', 'browserVersion': 'not a...   \n",
       "2  {'browser': 'Chrome', 'browserVersion': 'not a...   \n",
       "3  {'browser': 'Chrome', 'browserVersion': 'not a...   \n",
       "4  {'browser': 'Safari', 'browserVersion': 'not a...   \n",
       "\n",
       "                                          geoNetwork  \\\n",
       "0  {'continent': 'Oceania', 'subContinent': 'Aust...   \n",
       "1  {'continent': 'Europe', 'subContinent': 'Weste...   \n",
       "2  {'continent': 'Americas', 'subContinent': 'Nor...   \n",
       "3  {'continent': 'Europe', 'subContinent': 'Weste...   \n",
       "4  {'continent': 'Americas', 'subContinent': 'Nor...   \n",
       "\n",
       "                             customDimensions  \\\n",
       "0           [{'index': '4', 'value': 'APAC'}]   \n",
       "1           [{'index': '4', 'value': 'EMEA'}]   \n",
       "2  [{'index': '4', 'value': 'North America'}]   \n",
       "3           [{'index': '4', 'value': 'EMEA'}]   \n",
       "4  [{'index': '4', 'value': 'North America'}]   \n",
       "\n",
       "                                                hits  fullVisitorId  \\\n",
       "0  [{'hitNumber': '1', 'time': '0', 'hour': '21',...   5.162435e+18   \n",
       "1  [{'hitNumber': '1', 'time': '0', 'hour': '7', ...   1.732367e+18   \n",
       "2  [{'hitNumber': '1', 'time': '0', 'hour': '16',...   1.432953e+18   \n",
       "3  [{'hitNumber': '1', 'time': '0', 'hour': '4', ...   9.675831e+18   \n",
       "4  [{'hitNumber': '1', 'time': '0', 'hour': '11',...   3.973743e+18   \n",
       "\n",
       "  channelGrouping  socialEngagementType  \n",
       "0        Referral  Not Socially Engaged  \n",
       "1          Social  Not Socially Engaged  \n",
       "2  Organic Search  Not Socially Engaged  \n",
       "3  Organic Search  Not Socially Engaged  \n",
       "4  Organic Search  Not Socially Engaged  "
      ]
     },
     "execution_count": 5,
     "metadata": {},
     "output_type": "execute_result"
    }
   ],
   "source": [
    "df.head()"
   ]
  },
  {
   "cell_type": "markdown",
   "metadata": {},
   "source": [
    "# Creating an unique ID"
   ]
  },
  {
   "cell_type": "code",
   "execution_count": 6,
   "metadata": {},
   "outputs": [],
   "source": [
    "list_ids = [str(c[1]['fullVisitorId']) + '#' + str(c[1]['visitId']) for c in df.iterrows()]\n",
    "df['NewId'] = list_ids"
   ]
  },
  {
   "cell_type": "code",
   "execution_count": 7,
   "metadata": {},
   "outputs": [
    {
     "data": {
      "text/plain": [
       "Index(['visitNumber', 'visitId', 'visitStartTime', 'date', 'totals',\n",
       "       'trafficSource', 'device', 'geoNetwork', 'customDimensions', 'hits',\n",
       "       'fullVisitorId', 'channelGrouping', 'socialEngagementType', 'NewId'],\n",
       "      dtype='object')"
      ]
     },
     "execution_count": 7,
     "metadata": {},
     "output_type": "execute_result"
    }
   ],
   "source": [
    "df.columns"
   ]
  },
  {
   "cell_type": "markdown",
   "metadata": {},
   "source": [
    "# Total Page Views"
   ]
  },
  {
   "cell_type": "code",
   "execution_count": 8,
   "metadata": {},
   "outputs": [
    {
     "name": "stderr",
     "output_type": "stream",
     "text": [
      "C:\\Users\\amori\\anaconda3\\lib\\site-packages\\ipykernel_launcher.py:7: FutureWarning: pandas.io.json.json_normalize is deprecated, use pandas.json_normalize instead\n",
      "  import sys\n"
     ]
    }
   ],
   "source": [
    "totals = df.totals.to_json(orient='records')\n",
    "devices = df.device.to_json(orient='records')\n",
    "\n",
    "totals_json = json.loads(totals)\n",
    "devices_json = json.loads(devices)\n",
    "\n",
    "df2 = pandas.concat([df,pandas.io.json.json_normalize(totals_json),pandas.io.json.json_normalize(devices_json)],axis=1)\n",
    "\n",
    "df2.drop(columns = ['totals','device'],inplace=True)"
   ]
  },
  {
   "cell_type": "code",
   "execution_count": 9,
   "metadata": {},
   "outputs": [
    {
     "name": "stdout",
     "output_type": "stream",
     "text": [
      "The number of views is 35737\n"
     ]
    }
   ],
   "source": [
    "totalpageviews = df2['pageviews'].fillna(0).astype(int).sum()\n",
    "print(f'The number of views is {totalpageviews}')"
   ]
  },
  {
   "cell_type": "code",
   "execution_count": 10,
   "metadata": {},
   "outputs": [
    {
     "data": {
      "text/plain": [
       "0       5.162435e+18\n",
       "1       1.732367e+18\n",
       "2       1.432953e+18\n",
       "3       9.675831e+18\n",
       "4       3.973743e+18\n",
       "            ...     \n",
       "9015    5.368524e+17\n",
       "9016    6.400230e+17\n",
       "9017    9.590960e+18\n",
       "9018    2.136266e+18\n",
       "9019    5.537481e+18\n",
       "Name: fullVisitorId, Length: 9020, dtype: float64"
      ]
     },
     "execution_count": 10,
     "metadata": {},
     "output_type": "execute_result"
    }
   ],
   "source": [
    "df['fullVisitorId']"
   ]
  },
  {
   "cell_type": "markdown",
   "metadata": {},
   "source": [
    "# Number of Sessions by fullVisitorId"
   ]
  },
  {
   "cell_type": "code",
   "execution_count": 11,
   "metadata": {},
   "outputs": [
    {
     "data": {
      "text/html": [
       "<div>\n",
       "<style scoped>\n",
       "    .dataframe tbody tr th:only-of-type {\n",
       "        vertical-align: middle;\n",
       "    }\n",
       "\n",
       "    .dataframe tbody tr th {\n",
       "        vertical-align: top;\n",
       "    }\n",
       "\n",
       "    .dataframe thead th {\n",
       "        text-align: right;\n",
       "    }\n",
       "</style>\n",
       "<table border=\"1\" class=\"dataframe\">\n",
       "  <thead>\n",
       "    <tr style=\"text-align: right;\">\n",
       "      <th></th>\n",
       "      <th>NewId</th>\n",
       "    </tr>\n",
       "    <tr>\n",
       "      <th>fullVisitorId</th>\n",
       "      <th></th>\n",
       "    </tr>\n",
       "  </thead>\n",
       "  <tbody>\n",
       "    <tr>\n",
       "      <th>1.701872e+14</th>\n",
       "      <td>2</td>\n",
       "    </tr>\n",
       "    <tr>\n",
       "      <th>1.799242e+14</th>\n",
       "      <td>1</td>\n",
       "    </tr>\n",
       "    <tr>\n",
       "      <th>4.923041e+14</th>\n",
       "      <td>1</td>\n",
       "    </tr>\n",
       "    <tr>\n",
       "      <th>6.967907e+14</th>\n",
       "      <td>1</td>\n",
       "    </tr>\n",
       "    <tr>\n",
       "      <th>8.146259e+14</th>\n",
       "      <td>1</td>\n",
       "    </tr>\n",
       "    <tr>\n",
       "      <th>...</th>\n",
       "      <td>...</td>\n",
       "    </tr>\n",
       "    <tr>\n",
       "      <th>9.997026e+18</th>\n",
       "      <td>1</td>\n",
       "    </tr>\n",
       "    <tr>\n",
       "      <th>9.997962e+18</th>\n",
       "      <td>1</td>\n",
       "    </tr>\n",
       "    <tr>\n",
       "      <th>9.998281e+18</th>\n",
       "      <td>1</td>\n",
       "    </tr>\n",
       "    <tr>\n",
       "      <th>9.998859e+18</th>\n",
       "      <td>1</td>\n",
       "    </tr>\n",
       "    <tr>\n",
       "      <th>9.999986e+18</th>\n",
       "      <td>1</td>\n",
       "    </tr>\n",
       "  </tbody>\n",
       "</table>\n",
       "<p>8951 rows × 1 columns</p>\n",
       "</div>"
      ],
      "text/plain": [
       "               NewId\n",
       "fullVisitorId       \n",
       "1.701872e+14       2\n",
       "1.799242e+14       1\n",
       "4.923041e+14       1\n",
       "6.967907e+14       1\n",
       "8.146259e+14       1\n",
       "...              ...\n",
       "9.997026e+18       1\n",
       "9.997962e+18       1\n",
       "9.998281e+18       1\n",
       "9.998859e+18       1\n",
       "9.999986e+18       1\n",
       "\n",
       "[8951 rows x 1 columns]"
      ]
     },
     "execution_count": 11,
     "metadata": {},
     "output_type": "execute_result"
    }
   ],
   "source": [
    "df2.groupby(['fullVisitorId']).count()['NewId'].to_frame()"
   ]
  },
  {
   "cell_type": "code",
   "execution_count": 12,
   "metadata": {},
   "outputs": [],
   "source": [
    "df2['timeOnSite'] = df2['timeOnSite'].fillna(0).astype(int)"
   ]
  },
  {
   "cell_type": "markdown",
   "metadata": {},
   "source": [
    "# Avarege Time On Site by Date"
   ]
  },
  {
   "cell_type": "code",
   "execution_count": 13,
   "metadata": {},
   "outputs": [
    {
     "data": {
      "text/html": [
       "<div>\n",
       "<style scoped>\n",
       "    .dataframe tbody tr th:only-of-type {\n",
       "        vertical-align: middle;\n",
       "    }\n",
       "\n",
       "    .dataframe tbody tr th {\n",
       "        vertical-align: top;\n",
       "    }\n",
       "\n",
       "    .dataframe thead th {\n",
       "        text-align: right;\n",
       "    }\n",
       "</style>\n",
       "<table border=\"1\" class=\"dataframe\">\n",
       "  <thead>\n",
       "    <tr style=\"text-align: right;\">\n",
       "      <th></th>\n",
       "      <th>timeOnSite</th>\n",
       "    </tr>\n",
       "    <tr>\n",
       "      <th>date</th>\n",
       "      <th></th>\n",
       "    </tr>\n",
       "  </thead>\n",
       "  <tbody>\n",
       "    <tr>\n",
       "      <th>20160801</th>\n",
       "      <td>219.714286</td>\n",
       "    </tr>\n",
       "    <tr>\n",
       "      <th>20160802</th>\n",
       "      <td>92.153846</td>\n",
       "    </tr>\n",
       "    <tr>\n",
       "      <th>20160803</th>\n",
       "      <td>384.818182</td>\n",
       "    </tr>\n",
       "    <tr>\n",
       "      <th>20160804</th>\n",
       "      <td>92.181818</td>\n",
       "    </tr>\n",
       "    <tr>\n",
       "      <th>20160805</th>\n",
       "      <td>133.187500</td>\n",
       "    </tr>\n",
       "    <tr>\n",
       "      <th>...</th>\n",
       "      <td>...</td>\n",
       "    </tr>\n",
       "    <tr>\n",
       "      <th>20170728</th>\n",
       "      <td>53.500000</td>\n",
       "    </tr>\n",
       "    <tr>\n",
       "      <th>20170729</th>\n",
       "      <td>123.800000</td>\n",
       "    </tr>\n",
       "    <tr>\n",
       "      <th>20170730</th>\n",
       "      <td>290.153846</td>\n",
       "    </tr>\n",
       "    <tr>\n",
       "      <th>20170731</th>\n",
       "      <td>129.785714</td>\n",
       "    </tr>\n",
       "    <tr>\n",
       "      <th>20170801</th>\n",
       "      <td>288.483871</td>\n",
       "    </tr>\n",
       "  </tbody>\n",
       "</table>\n",
       "<p>366 rows × 1 columns</p>\n",
       "</div>"
      ],
      "text/plain": [
       "          timeOnSite\n",
       "date                \n",
       "20160801  219.714286\n",
       "20160802   92.153846\n",
       "20160803  384.818182\n",
       "20160804   92.181818\n",
       "20160805  133.187500\n",
       "...              ...\n",
       "20170728   53.500000\n",
       "20170729  123.800000\n",
       "20170730  290.153846\n",
       "20170731  129.785714\n",
       "20170801  288.483871\n",
       "\n",
       "[366 rows x 1 columns]"
      ]
     },
     "execution_count": 13,
     "metadata": {},
     "output_type": "execute_result"
    }
   ],
   "source": [
    "df2.groupby(['date']).mean()['timeOnSite'].to_frame()"
   ]
  },
  {
   "cell_type": "markdown",
   "metadata": {},
   "source": [
    "# Number of Sessions by Date and Browser"
   ]
  },
  {
   "cell_type": "code",
   "execution_count": 14,
   "metadata": {},
   "outputs": [
    {
     "data": {
      "text/html": [
       "<div>\n",
       "<style scoped>\n",
       "    .dataframe tbody tr th:only-of-type {\n",
       "        vertical-align: middle;\n",
       "    }\n",
       "\n",
       "    .dataframe tbody tr th {\n",
       "        vertical-align: top;\n",
       "    }\n",
       "\n",
       "    .dataframe thead th {\n",
       "        text-align: right;\n",
       "    }\n",
       "</style>\n",
       "<table border=\"1\" class=\"dataframe\">\n",
       "  <thead>\n",
       "    <tr style=\"text-align: right;\">\n",
       "      <th></th>\n",
       "      <th></th>\n",
       "      <th>fullVisitorId</th>\n",
       "    </tr>\n",
       "    <tr>\n",
       "      <th>date</th>\n",
       "      <th>browser</th>\n",
       "      <th></th>\n",
       "    </tr>\n",
       "  </thead>\n",
       "  <tbody>\n",
       "    <tr>\n",
       "      <th rowspan=\"3\" valign=\"top\">20160801</th>\n",
       "      <th>Chrome</th>\n",
       "      <td>16</td>\n",
       "    </tr>\n",
       "    <tr>\n",
       "      <th>Firefox</th>\n",
       "      <td>2</td>\n",
       "    </tr>\n",
       "    <tr>\n",
       "      <th>Safari</th>\n",
       "      <td>3</td>\n",
       "    </tr>\n",
       "    <tr>\n",
       "      <th rowspan=\"2\" valign=\"top\">20160802</th>\n",
       "      <th>Chrome</th>\n",
       "      <td>9</td>\n",
       "    </tr>\n",
       "    <tr>\n",
       "      <th>Safari</th>\n",
       "      <td>4</td>\n",
       "    </tr>\n",
       "    <tr>\n",
       "      <th>...</th>\n",
       "      <th>...</th>\n",
       "      <td>...</td>\n",
       "    </tr>\n",
       "    <tr>\n",
       "      <th rowspan=\"2\" valign=\"top\">20170731</th>\n",
       "      <th>Opera Mini</th>\n",
       "      <td>1</td>\n",
       "    </tr>\n",
       "    <tr>\n",
       "      <th>Safari</th>\n",
       "      <td>4</td>\n",
       "    </tr>\n",
       "    <tr>\n",
       "      <th rowspan=\"3\" valign=\"top\">20170801</th>\n",
       "      <th>Chrome</th>\n",
       "      <td>24</td>\n",
       "    </tr>\n",
       "    <tr>\n",
       "      <th>Internet Explorer</th>\n",
       "      <td>1</td>\n",
       "    </tr>\n",
       "    <tr>\n",
       "      <th>Safari</th>\n",
       "      <td>6</td>\n",
       "    </tr>\n",
       "  </tbody>\n",
       "</table>\n",
       "<p>1489 rows × 1 columns</p>\n",
       "</div>"
      ],
      "text/plain": [
       "                            fullVisitorId\n",
       "date     browser                         \n",
       "20160801 Chrome                        16\n",
       "         Firefox                        2\n",
       "         Safari                         3\n",
       "20160802 Chrome                         9\n",
       "         Safari                         4\n",
       "...                                   ...\n",
       "20170731 Opera Mini                     1\n",
       "         Safari                         4\n",
       "20170801 Chrome                        24\n",
       "         Internet Explorer              1\n",
       "         Safari                         6\n",
       "\n",
       "[1489 rows x 1 columns]"
      ]
     },
     "execution_count": 14,
     "metadata": {},
     "output_type": "execute_result"
    }
   ],
   "source": [
    "df2.groupby(['date','browser']).count()['fullVisitorId'].to_frame()"
   ]
  },
  {
   "cell_type": "markdown",
   "metadata": {},
   "source": [
    "# Number of distinct Sessions by Date"
   ]
  },
  {
   "cell_type": "code",
   "execution_count": 15,
   "metadata": {},
   "outputs": [
    {
     "data": {
      "text/html": [
       "<div>\n",
       "<style scoped>\n",
       "    .dataframe tbody tr th:only-of-type {\n",
       "        vertical-align: middle;\n",
       "    }\n",
       "\n",
       "    .dataframe tbody tr th {\n",
       "        vertical-align: top;\n",
       "    }\n",
       "\n",
       "    .dataframe thead th {\n",
       "        text-align: right;\n",
       "    }\n",
       "</style>\n",
       "<table border=\"1\" class=\"dataframe\">\n",
       "  <thead>\n",
       "    <tr style=\"text-align: right;\">\n",
       "      <th></th>\n",
       "      <th>NewId</th>\n",
       "    </tr>\n",
       "    <tr>\n",
       "      <th>date</th>\n",
       "      <th></th>\n",
       "    </tr>\n",
       "  </thead>\n",
       "  <tbody>\n",
       "    <tr>\n",
       "      <th>20160801</th>\n",
       "      <td>21</td>\n",
       "    </tr>\n",
       "    <tr>\n",
       "      <th>20160802</th>\n",
       "      <td>13</td>\n",
       "    </tr>\n",
       "    <tr>\n",
       "      <th>20160803</th>\n",
       "      <td>22</td>\n",
       "    </tr>\n",
       "    <tr>\n",
       "      <th>20160804</th>\n",
       "      <td>33</td>\n",
       "    </tr>\n",
       "    <tr>\n",
       "      <th>20160805</th>\n",
       "      <td>16</td>\n",
       "    </tr>\n",
       "    <tr>\n",
       "      <th>...</th>\n",
       "      <td>...</td>\n",
       "    </tr>\n",
       "    <tr>\n",
       "      <th>20170728</th>\n",
       "      <td>20</td>\n",
       "    </tr>\n",
       "    <tr>\n",
       "      <th>20170729</th>\n",
       "      <td>15</td>\n",
       "    </tr>\n",
       "    <tr>\n",
       "      <th>20170730</th>\n",
       "      <td>13</td>\n",
       "    </tr>\n",
       "    <tr>\n",
       "      <th>20170731</th>\n",
       "      <td>28</td>\n",
       "    </tr>\n",
       "    <tr>\n",
       "      <th>20170801</th>\n",
       "      <td>31</td>\n",
       "    </tr>\n",
       "  </tbody>\n",
       "</table>\n",
       "<p>366 rows × 1 columns</p>\n",
       "</div>"
      ],
      "text/plain": [
       "          NewId\n",
       "date           \n",
       "20160801     21\n",
       "20160802     13\n",
       "20160803     22\n",
       "20160804     33\n",
       "20160805     16\n",
       "...         ...\n",
       "20170728     20\n",
       "20170729     15\n",
       "20170730     13\n",
       "20170731     28\n",
       "20170801     31\n",
       "\n",
       "[366 rows x 1 columns]"
      ]
     },
     "execution_count": 15,
     "metadata": {},
     "output_type": "execute_result"
    }
   ],
   "source": [
    "df2.groupby(['date']).count()['NewId'].to_frame()"
   ]
  },
  {
   "cell_type": "code",
   "execution_count": null,
   "metadata": {},
   "outputs": [],
   "source": []
  }
 ],
 "metadata": {
  "kernelspec": {
   "display_name": "Python 3",
   "language": "python",
   "name": "python3"
  },
  "language_info": {
   "codemirror_mode": {
    "name": "ipython",
    "version": 3
   },
   "file_extension": ".py",
   "mimetype": "text/x-python",
   "name": "python",
   "nbconvert_exporter": "python",
   "pygments_lexer": "ipython3",
   "version": "3.7.6"
  }
 },
 "nbformat": 4,
 "nbformat_minor": 4
}
